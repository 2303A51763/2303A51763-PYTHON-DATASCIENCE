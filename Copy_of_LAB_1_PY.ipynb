{
  "nbformat": 4,
  "nbformat_minor": 0,
  "metadata": {
    "colab": {
      "provenance": [],
      "authorship_tag": "ABX9TyNhj70QDLRfD9b5EoXdK54g",
      "include_colab_link": true
    },
    "kernelspec": {
      "name": "python3",
      "display_name": "Python 3"
    },
    "language_info": {
      "name": "python"
    }
  },
  "cells": [
    {
      "cell_type": "markdown",
      "metadata": {
        "id": "view-in-github",
        "colab_type": "text"
      },
      "source": [
        "<a href=\"https://colab.research.google.com/github/2303A51763/2303A51763-PYTHON-DATASCIENCE/blob/main/Copy_of_LAB_1_PY.ipynb\" target=\"_parent\"><img src=\"https://colab.research.google.com/assets/colab-badge.svg\" alt=\"Open In Colab\"/></a>"
      ]
    },
    {
      "cell_type": "code",
      "execution_count": null,
      "metadata": {
        "colab": {
          "base_uri": "https://localhost:8080/"
        },
        "id": "WZgQXL3LdvZE",
        "outputId": "d4d6d0bb-e8de-40d4-9d7a-7eae739e3a58"
      },
      "outputs": [
        {
          "output_type": "stream",
          "name": "stdout",
          "text": [
            "Enter a number (≤10): 4\n",
            "\n",
            "--- Tracing Recursion ---\n",
            "factorial(4)\n",
            "  factorial(3)\n",
            "    factorial(2)\n",
            "      factorial(1)\n",
            "      return 1\n",
            "    return 2\n",
            "  return 6\n",
            "return 24\n",
            "\n",
            "Final Answer: 24\n"
          ]
        }
      ],
      "source": [
        "def factorial(n, depth=0):\n",
        "    print(\"  \" * depth + f\"factorial({n})\")\n",
        "\n",
        "    # Base case\n",
        "    if n == 0 or n == 1:\n",
        "        print(\"  \" * depth + f\"return 1\")\n",
        "        return 1\n",
        "\n",
        "    # Recursive case\n",
        "    result = n * factorial(n - 1, depth + 1)\n",
        "    print(\"  \" * depth + f\"return {result}\")\n",
        "    return result\n",
        "\n",
        "\n",
        "num = int(input(\"Enter a number (≤10): \"))\n",
        "if 0 <= num <= 10:\n",
        "    print(\"\\n--- Tracing Recursion ---\")\n",
        "    ans = factorial(num)\n",
        "    print(f\"\\nFinal Answer: {ans}\")\n",
        "else:\n",
        "    print(\"Enter number between 0 and 10\")\n"
      ]
    }
  ]
}