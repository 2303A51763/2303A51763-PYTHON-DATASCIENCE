{
  "nbformat": 4,
  "nbformat_minor": 0,
  "metadata": {
    "colab": {
      "provenance": [],
      "authorship_tag": "ABX9TyMa9+UBpcCiA4l47Fe0DvGC",
      "include_colab_link": true
    },
    "kernelspec": {
      "name": "python3",
      "display_name": "Python 3"
    },
    "language_info": {
      "name": "python"
    }
  },
  "cells": [
    {
      "cell_type": "markdown",
      "metadata": {
        "id": "view-in-github",
        "colab_type": "text"
      },
      "source": [
        "<a href=\"https://colab.research.google.com/github/2303A51763/2303A51763-PYTHON-DATASCIENCE/blob/main/Lab_2.ipynb\" target=\"_parent\"><img src=\"https://colab.research.google.com/assets/colab-badge.svg\" alt=\"Open In Colab\"/></a>"
      ]
    },
    {
      "cell_type": "code",
      "execution_count": null,
      "metadata": {
        "colab": {
          "base_uri": "https://localhost:8080/"
        },
        "id": "Vsb-TYUmTJeb",
        "outputId": "e36ed827-d21a-46f1-de72-695cd4a2c90a"
      },
      "outputs": [
        {
          "output_type": "stream",
          "name": "stdout",
          "text": [
            "Student Marks:\n",
            " [[85 78 92]\n",
            " [66 74 58]\n",
            " [90 88 95]\n",
            " [45 56 60]\n",
            " [72 81 77]]\n",
            "\n",
            "Average Marks of each student: [85.         66.         91.         53.66666667 76.66666667]\n",
            "Minimum Mark in the class: 45\n",
            "Maximum Mark in the class: 95\n",
            "\n",
            "Marks of first 3 students:\n",
            " [[85 78 92]\n",
            " [66 74 58]\n",
            " [90 88 95]]\n",
            "\n",
            "Marks greater than 80: [85 92 90 88 95 81]\n",
            "\n",
            "Subject-wise Performance (rows=subjects, cols=students):\n",
            " [[85 66 90 45 72]\n",
            " [78 74 88 56 81]\n",
            " [92 58 95 60 77]]\n"
          ]
        }
      ],
      "source": [
        "import numpy as np\n",
        "\n",
        "marks = np.array([\n",
        "    [85, 78, 92],\n",
        "    [66, 74, 58],\n",
        "    [90, 88, 95],\n",
        "    [45, 56, 60],\n",
        "    [72, 81, 77]\n",
        "])\n",
        "\n",
        "print(\"Student Marks:\\n\", marks)\n",
        "\n",
        "avg_marks = np.mean(marks, axis=1)\n",
        "min_marks = np.min(marks)\n",
        "max_marks = np.max(marks)\n",
        "\n",
        "print(\"\\nAverage Marks of each student:\", avg_marks)\n",
        "print(\"Minimum Mark in the class:\", min_marks)\n",
        "print(\"Maximum Mark in the class:\", max_marks)\n",
        "\n",
        "\n",
        "print(\"\\nMarks of first 3 students:\\n\", marks[:3])\n",
        "\n",
        "above_80 = marks[marks > 80]\n",
        "print(\"\\nMarks greater than 80:\", above_80)\n",
        "\n",
        "reshaped = marks.T\n",
        "print(\"\\nSubject-wise Performance (rows=subjects, cols=students):\\n\", reshaped)\n"
      ]
    }
  ]
}