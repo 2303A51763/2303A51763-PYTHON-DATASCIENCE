{
  "nbformat": 4,
  "nbformat_minor": 0,
  "metadata": {
    "colab": {
      "provenance": [],
      "authorship_tag": "ABX9TyMyqOHSQGFMoyRTifNH5unC",
      "include_colab_link": true
    },
    "kernelspec": {
      "name": "python3",
      "display_name": "Python 3"
    },
    "language_info": {
      "name": "python"
    }
  },
  "cells": [
    {
      "cell_type": "markdown",
      "metadata": {
        "id": "view-in-github",
        "colab_type": "text"
      },
      "source": [
        "<a href=\"https://colab.research.google.com/github/2303A51763/2303A51763-PYTHON-DATASCIENCE/blob/main/LAB_3_PY.ipynb\" target=\"_parent\"><img src=\"https://colab.research.google.com/assets/colab-badge.svg\" alt=\"Open In Colab\"/></a>"
      ]
    },
    {
      "cell_type": "code",
      "execution_count": null,
      "metadata": {
        "colab": {
          "base_uri": "https://localhost:8080/"
        },
        "id": "WZgQXL3LdvZE",
        "outputId": "8163a7a3-3bb4-4e0b-c6fd-3c8a49a91866"
      },
      "outputs": [
        {
          "output_type": "stream",
          "name": "stdout",
          "text": [
            "Array:\n",
            " [[78 85 90 92]\n",
            " [88 76 95 89]\n",
            " [92 91 85 87]\n",
            " [75 80 79 83]]\n",
            "Row wise mean = [86.25 87.   88.75 79.25]\n",
            "Column wise mean = [83.25 83.   87.25 87.75]\n",
            "Standard Deviation = 6.028253789448484\n",
            "Variance = 36.33984375\n",
            "Minimum value = 75 at index (np.int64(3), np.int64(0))\n",
            "Maximum value = 95 at index (np.int64(1), np.int64(2))\n"
          ]
        }
      ],
      "source": [
        "import numpy as np\n",
        "\n",
        "a = np.array([[78, 85, 90, 92],\n",
        "              [88, 76, 95, 89],\n",
        "              [92, 91, 85, 87],\n",
        "              [75, 80, 79, 83]])\n",
        "\n",
        "print(\"Array:\\n\", a)\n",
        "\n",
        "print(\"Row wise mean =\", np.mean(a, axis=1))\n",
        "print(\"Column wise mean =\", np.mean(a, axis=0))\n",
        "\n",
        "print(\"Standard Deviation =\", np.std(a))\n",
        "print(\"Variance =\", np.var(a))\n",
        "\n",
        "print(\"Minimum value =\", np.min(a), \"at index\", np.unravel_index(np.argmin(a), a.shape))\n",
        "print(\"Maximum value =\", np.max(a), \"at index\", np.unravel_index(np.argmax(a), a.shape))\n"
      ]
    }
  ]
}